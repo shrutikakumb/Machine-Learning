{
 "cells": [
  {
   "cell_type": "code",
   "execution_count": 3,
   "id": "4e005620",
   "metadata": {
    "ExecuteTime": {
     "end_time": "2023-01-24T17:10:06.550626Z",
     "start_time": "2023-01-24T17:10:03.928573Z"
    }
   },
   "outputs": [],
   "source": [
    "import pandas as pd\n",
    "import numpy as np\n",
    "from sklearn.feature_selection import SelectKBest,chi2,RFE\n",
    "from sklearn.tree import DecisionTreeClassifier\n",
    "from sklearn.linear_model import LogisticRegression\n",
    "import warnings\n",
    "warnings.filterwarnings('ignore')"
   ]
  },
  {
   "cell_type": "code",
   "execution_count": 4,
   "id": "a138a0c2",
   "metadata": {
    "ExecuteTime": {
     "end_time": "2023-01-24T17:10:07.581554Z",
     "start_time": "2023-01-24T17:10:06.555844Z"
    }
   },
   "outputs": [
    {
     "data": {
      "text/html": [
       "<div>\n",
       "<style scoped>\n",
       "    .dataframe tbody tr th:only-of-type {\n",
       "        vertical-align: middle;\n",
       "    }\n",
       "\n",
       "    .dataframe tbody tr th {\n",
       "        vertical-align: top;\n",
       "    }\n",
       "\n",
       "    .dataframe thead th {\n",
       "        text-align: right;\n",
       "    }\n",
       "</style>\n",
       "<table border=\"1\" class=\"dataframe\">\n",
       "  <thead>\n",
       "    <tr style=\"text-align: right;\">\n",
       "      <th></th>\n",
       "      <th>preg</th>\n",
       "      <th>plas</th>\n",
       "      <th>pres</th>\n",
       "      <th>skin</th>\n",
       "      <th>test</th>\n",
       "      <th>mass</th>\n",
       "      <th>pedi</th>\n",
       "      <th>age</th>\n",
       "      <th>class</th>\n",
       "    </tr>\n",
       "  </thead>\n",
       "  <tbody>\n",
       "    <tr>\n",
       "      <th>0</th>\n",
       "      <td>6</td>\n",
       "      <td>148</td>\n",
       "      <td>72</td>\n",
       "      <td>35</td>\n",
       "      <td>0</td>\n",
       "      <td>33.6</td>\n",
       "      <td>0.627</td>\n",
       "      <td>50</td>\n",
       "      <td>1</td>\n",
       "    </tr>\n",
       "    <tr>\n",
       "      <th>1</th>\n",
       "      <td>1</td>\n",
       "      <td>85</td>\n",
       "      <td>66</td>\n",
       "      <td>29</td>\n",
       "      <td>0</td>\n",
       "      <td>26.6</td>\n",
       "      <td>0.351</td>\n",
       "      <td>31</td>\n",
       "      <td>0</td>\n",
       "    </tr>\n",
       "    <tr>\n",
       "      <th>2</th>\n",
       "      <td>8</td>\n",
       "      <td>183</td>\n",
       "      <td>64</td>\n",
       "      <td>0</td>\n",
       "      <td>0</td>\n",
       "      <td>23.3</td>\n",
       "      <td>0.672</td>\n",
       "      <td>32</td>\n",
       "      <td>1</td>\n",
       "    </tr>\n",
       "    <tr>\n",
       "      <th>3</th>\n",
       "      <td>1</td>\n",
       "      <td>89</td>\n",
       "      <td>66</td>\n",
       "      <td>23</td>\n",
       "      <td>94</td>\n",
       "      <td>28.1</td>\n",
       "      <td>0.167</td>\n",
       "      <td>21</td>\n",
       "      <td>0</td>\n",
       "    </tr>\n",
       "    <tr>\n",
       "      <th>4</th>\n",
       "      <td>0</td>\n",
       "      <td>137</td>\n",
       "      <td>40</td>\n",
       "      <td>35</td>\n",
       "      <td>168</td>\n",
       "      <td>43.1</td>\n",
       "      <td>2.288</td>\n",
       "      <td>33</td>\n",
       "      <td>1</td>\n",
       "    </tr>\n",
       "  </tbody>\n",
       "</table>\n",
       "</div>"
      ],
      "text/plain": [
       "   preg  plas  pres  skin  test  mass   pedi  age  class\n",
       "0     6   148    72    35     0  33.6  0.627   50      1\n",
       "1     1    85    66    29     0  26.6  0.351   31      0\n",
       "2     8   183    64     0     0  23.3  0.672   32      1\n",
       "3     1    89    66    23    94  28.1  0.167   21      0\n",
       "4     0   137    40    35   168  43.1  2.288   33      1"
      ]
     },
     "execution_count": 4,
     "metadata": {},
     "output_type": "execute_result"
    }
   ],
   "source": [
    "df=pd.read_csv(r'https://raw.githubusercontent.com/aishwaryamate/Datasets/main/Pima.csv', index_col=0)\n",
    "df.head()"
   ]
  },
  {
   "cell_type": "code",
   "execution_count": 5,
   "id": "a68caae2",
   "metadata": {
    "ExecuteTime": {
     "end_time": "2023-01-24T17:10:07.616999Z",
     "start_time": "2023-01-24T17:10:07.594496Z"
    }
   },
   "outputs": [],
   "source": [
    "x=df.iloc[:,:-1]\n",
    "y=df.iloc[:,-1]"
   ]
  },
  {
   "cell_type": "code",
   "execution_count": 6,
   "id": "fe105b62",
   "metadata": {
    "ExecuteTime": {
     "end_time": "2023-01-24T17:10:07.786617Z",
     "start_time": "2023-01-24T17:10:07.626808Z"
    }
   },
   "outputs": [],
   "source": [
    "test=SelectKBest(score_func=chi2,k=5)\n",
    "chi=test.fit(x,y)"
   ]
  },
  {
   "cell_type": "code",
   "execution_count": 7,
   "id": "4bd02c22",
   "metadata": {
    "ExecuteTime": {
     "end_time": "2023-01-24T17:10:08.049592Z",
     "start_time": "2023-01-24T17:10:08.022989Z"
    }
   },
   "outputs": [
    {
     "data": {
      "text/plain": [
       "array([ 111.51969064, 1411.88704064,   17.60537322,   53.10803984,\n",
       "       2175.56527292,  127.66934333,    5.39268155,  181.30368904])"
      ]
     },
     "execution_count": 7,
     "metadata": {},
     "output_type": "execute_result"
    }
   ],
   "source": [
    "chi.scores_"
   ]
  },
  {
   "cell_type": "code",
   "execution_count": 8,
   "id": "b79517b1",
   "metadata": {
    "ExecuteTime": {
     "end_time": "2023-01-24T17:10:08.863845Z",
     "start_time": "2023-01-24T17:10:08.853598Z"
    }
   },
   "outputs": [
    {
     "data": {
      "text/plain": [
       "Index(['preg', 'plas', 'pres', 'skin', 'test', 'mass', 'pedi', 'age'], dtype='object')"
      ]
     },
     "execution_count": 8,
     "metadata": {},
     "output_type": "execute_result"
    }
   ],
   "source": [
    "x.columns"
   ]
  },
  {
   "cell_type": "code",
   "execution_count": 9,
   "id": "a4265253",
   "metadata": {
    "ExecuteTime": {
     "end_time": "2023-01-24T17:10:09.692951Z",
     "start_time": "2023-01-24T17:10:09.683606Z"
    }
   },
   "outputs": [],
   "source": [
    "chidf = pd.DataFrame(chi.scores_).T\n",
    "chidf.columns = x.columns"
   ]
  },
  {
   "cell_type": "code",
   "execution_count": 10,
   "id": "b3fcb36f",
   "metadata": {
    "ExecuteTime": {
     "end_time": "2023-01-24T17:10:10.488782Z",
     "start_time": "2023-01-24T17:10:10.460151Z"
    }
   },
   "outputs": [
    {
     "data": {
      "text/html": [
       "<div>\n",
       "<style scoped>\n",
       "    .dataframe tbody tr th:only-of-type {\n",
       "        vertical-align: middle;\n",
       "    }\n",
       "\n",
       "    .dataframe tbody tr th {\n",
       "        vertical-align: top;\n",
       "    }\n",
       "\n",
       "    .dataframe thead th {\n",
       "        text-align: right;\n",
       "    }\n",
       "</style>\n",
       "<table border=\"1\" class=\"dataframe\">\n",
       "  <thead>\n",
       "    <tr style=\"text-align: right;\">\n",
       "      <th></th>\n",
       "      <th>preg</th>\n",
       "      <th>plas</th>\n",
       "      <th>pres</th>\n",
       "      <th>skin</th>\n",
       "      <th>test</th>\n",
       "      <th>mass</th>\n",
       "      <th>pedi</th>\n",
       "      <th>age</th>\n",
       "    </tr>\n",
       "  </thead>\n",
       "  <tbody>\n",
       "    <tr>\n",
       "      <th>0</th>\n",
       "      <td>111.519691</td>\n",
       "      <td>1411.887041</td>\n",
       "      <td>17.605373</td>\n",
       "      <td>53.10804</td>\n",
       "      <td>2175.565273</td>\n",
       "      <td>127.669343</td>\n",
       "      <td>5.392682</td>\n",
       "      <td>181.303689</td>\n",
       "    </tr>\n",
       "  </tbody>\n",
       "</table>\n",
       "</div>"
      ],
      "text/plain": [
       "         preg         plas       pres      skin         test        mass  \\\n",
       "0  111.519691  1411.887041  17.605373  53.10804  2175.565273  127.669343   \n",
       "\n",
       "       pedi         age  \n",
       "0  5.392682  181.303689  "
      ]
     },
     "execution_count": 10,
     "metadata": {},
     "output_type": "execute_result"
    }
   ],
   "source": [
    "chidf"
   ]
  },
  {
   "cell_type": "markdown",
   "id": "ffb1d1c7",
   "metadata": {},
   "source": [
    "# RFE"
   ]
  },
  {
   "cell_type": "code",
   "execution_count": 11,
   "id": "955f2f1d",
   "metadata": {
    "ExecuteTime": {
     "end_time": "2023-01-24T17:10:12.321344Z",
     "start_time": "2023-01-24T17:10:12.031876Z"
    }
   },
   "outputs": [
    {
     "data": {
      "text/plain": [
       "RFE(estimator=LogisticRegression(), n_features_to_select=5)"
      ]
     },
     "execution_count": 11,
     "metadata": {},
     "output_type": "execute_result"
    }
   ],
   "source": [
    "lg= LogisticRegression()\n",
    "\n",
    "rfe=RFE(lg,n_features_to_select=5)\n",
    "\n",
    "rfe.fit(x,y)"
   ]
  },
  {
   "cell_type": "code",
   "execution_count": 12,
   "id": "8468df00",
   "metadata": {
    "ExecuteTime": {
     "end_time": "2023-01-24T17:10:12.985119Z",
     "start_time": "2023-01-24T17:10:12.968548Z"
    }
   },
   "outputs": [
    {
     "data": {
      "text/plain": [
       "array([ True,  True, False, False, False,  True,  True,  True])"
      ]
     },
     "execution_count": 12,
     "metadata": {},
     "output_type": "execute_result"
    }
   ],
   "source": [
    "rfe.support_"
   ]
  },
  {
   "cell_type": "code",
   "execution_count": 13,
   "id": "d8351813",
   "metadata": {
    "ExecuteTime": {
     "end_time": "2023-01-24T17:10:14.090569Z",
     "start_time": "2023-01-24T17:10:14.063946Z"
    }
   },
   "outputs": [
    {
     "data": {
      "text/html": [
       "<div>\n",
       "<style scoped>\n",
       "    .dataframe tbody tr th:only-of-type {\n",
       "        vertical-align: middle;\n",
       "    }\n",
       "\n",
       "    .dataframe tbody tr th {\n",
       "        vertical-align: top;\n",
       "    }\n",
       "\n",
       "    .dataframe thead th {\n",
       "        text-align: right;\n",
       "    }\n",
       "</style>\n",
       "<table border=\"1\" class=\"dataframe\">\n",
       "  <thead>\n",
       "    <tr style=\"text-align: right;\">\n",
       "      <th></th>\n",
       "      <th>preg</th>\n",
       "      <th>plas</th>\n",
       "      <th>pres</th>\n",
       "      <th>skin</th>\n",
       "      <th>test</th>\n",
       "      <th>mass</th>\n",
       "      <th>pedi</th>\n",
       "      <th>age</th>\n",
       "    </tr>\n",
       "  </thead>\n",
       "  <tbody>\n",
       "    <tr>\n",
       "      <th>0</th>\n",
       "      <td>1</td>\n",
       "      <td>1</td>\n",
       "      <td>2</td>\n",
       "      <td>3</td>\n",
       "      <td>4</td>\n",
       "      <td>1</td>\n",
       "      <td>1</td>\n",
       "      <td>1</td>\n",
       "    </tr>\n",
       "  </tbody>\n",
       "</table>\n",
       "</div>"
      ],
      "text/plain": [
       "   preg  plas  pres  skin  test  mass  pedi  age\n",
       "0     1     1     2     3     4     1     1    1"
      ]
     },
     "execution_count": 13,
     "metadata": {},
     "output_type": "execute_result"
    }
   ],
   "source": [
    "rfe_df=pd.DataFrame(rfe.ranking_).T\n",
    "rfe_df.columns=x.columns\n",
    "rfe_df"
   ]
  },
  {
   "cell_type": "markdown",
   "id": "51a40863",
   "metadata": {},
   "source": [
    "# Tree Based Approach"
   ]
  },
  {
   "cell_type": "code",
   "execution_count": 14,
   "id": "ede2184f",
   "metadata": {
    "ExecuteTime": {
     "end_time": "2023-01-24T17:10:15.880392Z",
     "start_time": "2023-01-24T17:10:15.862761Z"
    }
   },
   "outputs": [],
   "source": [
    "dt= DecisionTreeClassifier(criterion='entropy')"
   ]
  },
  {
   "cell_type": "code",
   "execution_count": 15,
   "id": "1a43ffc1",
   "metadata": {
    "ExecuteTime": {
     "end_time": "2023-01-24T17:10:16.734576Z",
     "start_time": "2023-01-24T17:10:16.680634Z"
    }
   },
   "outputs": [
    {
     "data": {
      "text/plain": [
       "DecisionTreeClassifier(criterion='entropy')"
      ]
     },
     "execution_count": 15,
     "metadata": {},
     "output_type": "execute_result"
    }
   ],
   "source": [
    "dt.fit(x,y)"
   ]
  },
  {
   "cell_type": "code",
   "execution_count": 16,
   "id": "b8b16dc0",
   "metadata": {
    "ExecuteTime": {
     "end_time": "2023-01-24T17:10:17.501964Z",
     "start_time": "2023-01-24T17:10:17.472892Z"
    }
   },
   "outputs": [
    {
     "data": {
      "text/html": [
       "<div>\n",
       "<style scoped>\n",
       "    .dataframe tbody tr th:only-of-type {\n",
       "        vertical-align: middle;\n",
       "    }\n",
       "\n",
       "    .dataframe tbody tr th {\n",
       "        vertical-align: top;\n",
       "    }\n",
       "\n",
       "    .dataframe thead th {\n",
       "        text-align: right;\n",
       "    }\n",
       "</style>\n",
       "<table border=\"1\" class=\"dataframe\">\n",
       "  <thead>\n",
       "    <tr style=\"text-align: right;\">\n",
       "      <th></th>\n",
       "      <th>preg</th>\n",
       "      <th>plas</th>\n",
       "      <th>pres</th>\n",
       "      <th>skin</th>\n",
       "      <th>test</th>\n",
       "      <th>mass</th>\n",
       "      <th>pedi</th>\n",
       "      <th>age</th>\n",
       "    </tr>\n",
       "  </thead>\n",
       "  <tbody>\n",
       "    <tr>\n",
       "      <th>0</th>\n",
       "      <td>0.095229</td>\n",
       "      <td>0.23509</td>\n",
       "      <td>0.089608</td>\n",
       "      <td>0.020228</td>\n",
       "      <td>0.046733</td>\n",
       "      <td>0.260261</td>\n",
       "      <td>0.123238</td>\n",
       "      <td>0.129614</td>\n",
       "    </tr>\n",
       "  </tbody>\n",
       "</table>\n",
       "</div>"
      ],
      "text/plain": [
       "       preg     plas      pres      skin      test      mass      pedi  \\\n",
       "0  0.095229  0.23509  0.089608  0.020228  0.046733  0.260261  0.123238   \n",
       "\n",
       "        age  \n",
       "0  0.129614  "
      ]
     },
     "execution_count": 16,
     "metadata": {},
     "output_type": "execute_result"
    }
   ],
   "source": [
    "dt_df=pd.DataFrame(dt.feature_importances_).T\n",
    "dt_df.columns=x.columns\n",
    "dt_df"
   ]
  },
  {
   "cell_type": "markdown",
   "id": "1ceef369",
   "metadata": {},
   "source": [
    "- Univariate selection:\n",
    "    - Test,Plasma,Age,Mass\n",
    "    \n",
    "- RFE:\n",
    "    - preg,plas,mass,pedi,age\n",
    "    \n",
    "- Tree:\n",
    "    - Plasma,mass,pedi,age"
   ]
  },
  {
   "cell_type": "markdown",
   "id": "67fc9cad",
   "metadata": {},
   "source": [
    "# Cross validation "
   ]
  },
  {
   "cell_type": "code",
   "execution_count": 17,
   "id": "0788fe57",
   "metadata": {
    "ExecuteTime": {
     "end_time": "2023-01-24T17:10:20.608113Z",
     "start_time": "2023-01-24T17:10:20.592056Z"
    }
   },
   "outputs": [],
   "source": [
    "from sklearn.model_selection import KFold , LeaveOneOut, cross_val_score"
   ]
  },
  {
   "cell_type": "code",
   "execution_count": 18,
   "id": "84deffef",
   "metadata": {
    "ExecuteTime": {
     "end_time": "2023-01-24T17:10:22.383338Z",
     "start_time": "2023-01-24T17:10:21.712932Z"
    }
   },
   "outputs": [],
   "source": [
    "kf= KFold(n_splits=10,random_state=1,shuffle=True)\n",
    "score=cross_val_score(LogisticRegression(),x,y,cv=kf)"
   ]
  },
  {
   "cell_type": "code",
   "execution_count": 19,
   "id": "d467b541",
   "metadata": {
    "ExecuteTime": {
     "end_time": "2023-01-24T17:10:57.072687Z",
     "start_time": "2023-01-24T17:10:57.058151Z"
    }
   },
   "outputs": [
    {
     "data": {
      "text/plain": [
       "0.7720608339029391"
      ]
     },
     "execution_count": 19,
     "metadata": {},
     "output_type": "execute_result"
    }
   ],
   "source": [
    "score.mean()"
   ]
  },
  {
   "cell_type": "code",
   "execution_count": 20,
   "id": "8f16f6cc",
   "metadata": {
    "ExecuteTime": {
     "end_time": "2023-01-24T17:11:11.735574Z",
     "start_time": "2023-01-24T17:11:11.721983Z"
    }
   },
   "outputs": [],
   "source": [
    "#Leave one out"
   ]
  },
  {
   "cell_type": "code",
   "execution_count": 21,
   "id": "9e244945",
   "metadata": {
    "ExecuteTime": {
     "end_time": "2023-01-24T17:11:26.551043Z",
     "start_time": "2023-01-24T17:11:26.527296Z"
    }
   },
   "outputs": [
    {
     "data": {
      "text/plain": [
       "(768, 9)"
      ]
     },
     "execution_count": 21,
     "metadata": {},
     "output_type": "execute_result"
    }
   ],
   "source": [
    "df.shape"
   ]
  },
  {
   "cell_type": "code",
   "execution_count": 22,
   "id": "03b93b74",
   "metadata": {
    "ExecuteTime": {
     "end_time": "2023-01-24T17:13:21.079609Z",
     "start_time": "2023-01-24T17:12:26.289470Z"
    }
   },
   "outputs": [],
   "source": [
    "le= LeaveOneOut()\n",
    "le_score= cross_val_score(LogisticRegression(),x,y,cv=le)"
   ]
  },
  {
   "cell_type": "code",
   "execution_count": 23,
   "id": "0f06729d",
   "metadata": {
    "ExecuteTime": {
     "end_time": "2023-01-24T17:16:56.828381Z",
     "start_time": "2023-01-24T17:16:56.800435Z"
    }
   },
   "outputs": [
    {
     "data": {
      "text/plain": [
       "array([1., 1., 1., 1., 1., 1., 0., 0., 1., 0., 1., 1., 0., 1., 1., 0., 0.,\n",
       "       0., 1., 0., 1., 1., 1., 0., 1., 0., 1., 1., 0., 1., 1., 1., 1., 1.,\n",
       "       1., 1., 0., 0., 0., 1., 0., 0., 1., 1., 0., 1., 1., 1., 0., 1., 1.,\n",
       "       1., 1., 1., 0., 1., 1., 1., 0., 1., 1., 0., 1., 1., 0., 1., 0., 0.,\n",
       "       1., 1., 0., 1., 1., 1., 1., 1., 1., 1., 1., 1., 1., 1., 1., 1., 1.,\n",
       "       1., 1., 1., 1., 1., 1., 1., 1., 0., 1., 1., 1., 1., 1., 0., 1., 1.,\n",
       "       1., 1., 1., 1., 1., 1., 1., 0., 1., 1., 1., 1., 1., 1., 0., 1., 1.,\n",
       "       1., 1., 1., 1., 1., 0., 0., 1., 1., 0., 0., 1., 1., 1., 1., 1., 1.,\n",
       "       1., 1., 1., 1., 1., 1., 1., 0., 1., 1., 1., 1., 0., 1., 1., 1., 1.,\n",
       "       0., 1., 1., 1., 1., 1., 1., 1., 1., 1., 1., 0., 0., 1., 1., 1., 1.,\n",
       "       0., 1., 1., 1., 1., 1., 1., 1., 0., 1., 1., 1., 1., 1., 1., 1., 1.,\n",
       "       0., 0., 0., 1., 1., 1., 1., 1., 1., 1., 0., 0., 0., 1., 1., 1., 1.,\n",
       "       1., 1., 1., 1., 1., 1., 1., 0., 0., 0., 0., 1., 0., 1., 0., 0., 1.,\n",
       "       1., 1., 0., 1., 1., 1., 1., 0., 1., 1., 1., 1., 1., 1., 1., 1., 1.,\n",
       "       1., 1., 1., 1., 0., 0., 1., 1., 1., 0., 1., 1., 1., 1., 1., 1., 0.,\n",
       "       0., 1., 1., 0., 1., 0., 1., 1., 0., 0., 1., 1., 0., 1., 1., 1., 1.,\n",
       "       1., 1., 1., 1., 0., 1., 1., 1., 0., 0., 1., 1., 0., 1., 0., 0., 1.,\n",
       "       1., 1., 0., 1., 0., 1., 0., 0., 1., 0., 1., 1., 0., 1., 1., 1., 1.,\n",
       "       1., 1., 0., 0., 1., 1., 0., 1., 1., 1., 1., 1., 1., 1., 1., 0., 0.,\n",
       "       1., 1., 1., 0., 0., 0., 1., 0., 1., 1., 1., 1., 0., 0., 0., 1., 1.,\n",
       "       1., 1., 1., 1., 1., 0., 1., 1., 1., 0., 1., 1., 1., 1., 1., 1., 0.,\n",
       "       1., 1., 1., 1., 0., 1., 1., 1., 1., 0., 1., 1., 0., 1., 1., 1., 1.,\n",
       "       1., 1., 1., 1., 1., 1., 1., 1., 1., 1., 1., 1., 0., 0., 1., 1., 1.,\n",
       "       1., 1., 1., 1., 1., 1., 0., 1., 1., 0., 1., 0., 1., 1., 0., 0., 1.,\n",
       "       1., 1., 1., 1., 0., 1., 0., 0., 1., 1., 1., 0., 1., 1., 1., 1., 1.,\n",
       "       1., 1., 1., 1., 0., 1., 1., 1., 1., 1., 1., 0., 1., 1., 1., 1., 1.,\n",
       "       1., 0., 0., 1., 1., 1., 0., 1., 1., 0., 1., 1., 1., 1., 1., 1., 1.,\n",
       "       1., 1., 1., 1., 1., 1., 1., 1., 1., 0., 0., 0., 1., 1., 1., 1., 1.,\n",
       "       0., 1., 1., 1., 1., 1., 1., 1., 1., 0., 1., 0., 1., 0., 1., 1., 1.,\n",
       "       1., 1., 0., 1., 1., 1., 0., 1., 1., 0., 1., 1., 1., 1., 1., 1., 1.,\n",
       "       0., 1., 1., 1., 1., 1., 1., 0., 1., 1., 1., 1., 1., 1., 1., 1., 1.,\n",
       "       1., 1., 1., 1., 1., 1., 1., 1., 1., 1., 1., 1., 0., 0., 0., 0., 1.,\n",
       "       1., 1., 1., 1., 0., 0., 1., 1., 1., 1., 1., 1., 1., 1., 0., 1., 0.,\n",
       "       1., 1., 1., 1., 1., 1., 1., 1., 0., 1., 1., 1., 1., 1., 1., 1., 0.,\n",
       "       1., 1., 1., 1., 1., 1., 0., 1., 1., 1., 1., 1., 1., 1., 0., 1., 1.,\n",
       "       1., 1., 1., 1., 1., 1., 1., 1., 1., 1., 1., 1., 1., 1., 1., 1., 1.,\n",
       "       1., 1., 1., 1., 1., 1., 1., 0., 1., 1., 0., 1., 1., 1., 1., 1., 1.,\n",
       "       1., 0., 1., 1., 1., 1., 0., 1., 1., 0., 1., 1., 1., 0., 1., 1., 1.,\n",
       "       0., 1., 0., 1., 1., 1., 1., 1., 1., 1., 1., 0., 0., 0., 0., 1., 1.,\n",
       "       1., 0., 1., 1., 0., 1., 0., 0., 1., 1., 0., 1., 1., 1., 1., 0., 1.,\n",
       "       1., 1., 1., 0., 1., 1., 1., 1., 1., 1., 1., 1., 1., 1., 1., 0., 1.,\n",
       "       1., 1., 0., 1., 0., 1., 0., 1., 1., 0., 1., 1., 0., 1., 1., 1., 1.,\n",
       "       1., 1., 1., 1., 1., 0., 1., 1., 0., 1., 1., 1., 1., 1., 1., 1., 0.,\n",
       "       0., 1., 1., 1., 1., 1., 1., 1., 0., 1., 1., 1., 1., 0., 1., 1., 1.,\n",
       "       1., 1., 1., 1., 1., 1., 1., 0., 1., 0., 1., 1., 1., 1., 1., 1., 1.,\n",
       "       1., 0., 1.])"
      ]
     },
     "execution_count": 23,
     "metadata": {},
     "output_type": "execute_result"
    }
   ],
   "source": [
    "le_score"
   ]
  },
  {
   "cell_type": "code",
   "execution_count": 24,
   "id": "ffda8926",
   "metadata": {
    "ExecuteTime": {
     "end_time": "2023-01-24T17:17:26.440287Z",
     "start_time": "2023-01-24T17:17:26.424147Z"
    }
   },
   "outputs": [
    {
     "data": {
      "text/plain": [
       "0.7786458333333334"
      ]
     },
     "execution_count": 24,
     "metadata": {},
     "output_type": "execute_result"
    }
   ],
   "source": [
    "le_score.mean()"
   ]
  },
  {
   "cell_type": "code",
   "execution_count": null,
   "id": "c0bcc5d7",
   "metadata": {},
   "outputs": [],
   "source": []
  }
 ],
 "metadata": {
  "kernelspec": {
   "display_name": "Python 3 (ipykernel)",
   "language": "python",
   "name": "python3"
  },
  "language_info": {
   "codemirror_mode": {
    "name": "ipython",
    "version": 3
   },
   "file_extension": ".py",
   "mimetype": "text/x-python",
   "name": "python",
   "nbconvert_exporter": "python",
   "pygments_lexer": "ipython3",
   "version": "3.9.13"
  }
 },
 "nbformat": 4,
 "nbformat_minor": 5
}
